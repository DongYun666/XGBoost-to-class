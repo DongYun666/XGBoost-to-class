{
 "cells": [
  {
   "cell_type": "code",
   "execution_count": 1,
   "metadata": {},
   "outputs": [],
   "source": [
    "import pandas as pd"
   ]
  },
  {
   "cell_type": "code",
   "execution_count": 2,
   "metadata": {},
   "outputs": [],
   "source": [
    "# 读取数据\n",
    "data = pd.read_excel(\"./引下线.xlsx\",header=None,skiprows=1)"
   ]
  },
  {
   "cell_type": "code",
   "execution_count": 3,
   "metadata": {},
   "outputs": [
    {
     "data": {
      "text/plain": [
       "(100000, 12)"
      ]
     },
     "execution_count": 3,
     "metadata": {},
     "output_type": "execute_result"
    }
   ],
   "source": [
    "data.shape"
   ]
  },
  {
   "cell_type": "code",
   "execution_count": 4,
   "metadata": {},
   "outputs": [
    {
     "data": {
      "text/html": [
       "<div>\n",
       "<style scoped>\n",
       "    .dataframe tbody tr th:only-of-type {\n",
       "        vertical-align: middle;\n",
       "    }\n",
       "\n",
       "    .dataframe tbody tr th {\n",
       "        vertical-align: top;\n",
       "    }\n",
       "\n",
       "    .dataframe thead th {\n",
       "        text-align: right;\n",
       "    }\n",
       "</style>\n",
       "<table border=\"1\" class=\"dataframe\">\n",
       "  <thead>\n",
       "    <tr style=\"text-align: right;\">\n",
       "      <th></th>\n",
       "      <th>0</th>\n",
       "      <th>1</th>\n",
       "      <th>2</th>\n",
       "      <th>3</th>\n",
       "      <th>4</th>\n",
       "      <th>5</th>\n",
       "      <th>6</th>\n",
       "      <th>7</th>\n",
       "      <th>8</th>\n",
       "      <th>9</th>\n",
       "      <th>10</th>\n",
       "      <th>11</th>\n",
       "    </tr>\n",
       "  </thead>\n",
       "  <tbody>\n",
       "    <tr>\n",
       "      <th>0</th>\n",
       "      <td>大连地区</td>\n",
       "      <td>32.94</td>\n",
       "      <td>64.05</td>\n",
       "      <td>0.15</td>\n",
       "      <td>461.95</td>\n",
       "      <td>294.22</td>\n",
       "      <td>67.95</td>\n",
       "      <td>199.22</td>\n",
       "      <td>0.0</td>\n",
       "      <td>22.12</td>\n",
       "      <td>116.89</td>\n",
       "      <td>E</td>\n",
       "    </tr>\n",
       "    <tr>\n",
       "      <th>1</th>\n",
       "      <td>大连地区</td>\n",
       "      <td>22.32</td>\n",
       "      <td>45.35</td>\n",
       "      <td>0.09</td>\n",
       "      <td>410.70</td>\n",
       "      <td>283.53</td>\n",
       "      <td>66.65</td>\n",
       "      <td>151.33</td>\n",
       "      <td>0.0</td>\n",
       "      <td>11.10</td>\n",
       "      <td>21.89</td>\n",
       "      <td>C</td>\n",
       "    </tr>\n",
       "    <tr>\n",
       "      <th>2</th>\n",
       "      <td>大连地区</td>\n",
       "      <td>34.11</td>\n",
       "      <td>70.81</td>\n",
       "      <td>0.13</td>\n",
       "      <td>452.81</td>\n",
       "      <td>293.55</td>\n",
       "      <td>68.42</td>\n",
       "      <td>194.73</td>\n",
       "      <td>0.0</td>\n",
       "      <td>23.81</td>\n",
       "      <td>86.11</td>\n",
       "      <td>E</td>\n",
       "    </tr>\n",
       "    <tr>\n",
       "      <th>3</th>\n",
       "      <td>大连地区</td>\n",
       "      <td>30.31</td>\n",
       "      <td>69.94</td>\n",
       "      <td>0.15</td>\n",
       "      <td>450.31</td>\n",
       "      <td>294.60</td>\n",
       "      <td>68.31</td>\n",
       "      <td>193.15</td>\n",
       "      <td>0.0</td>\n",
       "      <td>21.80</td>\n",
       "      <td>48.36</td>\n",
       "      <td>E</td>\n",
       "    </tr>\n",
       "    <tr>\n",
       "      <th>4</th>\n",
       "      <td>大连地区</td>\n",
       "      <td>12.95</td>\n",
       "      <td>12.36</td>\n",
       "      <td>0.04</td>\n",
       "      <td>320.80</td>\n",
       "      <td>271.85</td>\n",
       "      <td>64.34</td>\n",
       "      <td>119.39</td>\n",
       "      <td>0.0</td>\n",
       "      <td>2.46</td>\n",
       "      <td>2.52</td>\n",
       "      <td>A</td>\n",
       "    </tr>\n",
       "  </tbody>\n",
       "</table>\n",
       "</div>"
      ],
      "text/plain": [
       "     0      1      2     3       4       5      6       7    8      9   \\\n",
       "0  大连地区  32.94  64.05  0.15  461.95  294.22  67.95  199.22  0.0  22.12   \n",
       "1  大连地区  22.32  45.35  0.09  410.70  283.53  66.65  151.33  0.0  11.10   \n",
       "2  大连地区  34.11  70.81  0.13  452.81  293.55  68.42  194.73  0.0  23.81   \n",
       "3  大连地区  30.31  69.94  0.15  450.31  294.60  68.31  193.15  0.0  21.80   \n",
       "4  大连地区  12.95  12.36  0.04  320.80  271.85  64.34  119.39  0.0   2.46   \n",
       "\n",
       "       10 11  \n",
       "0  116.89  E  \n",
       "1   21.89  C  \n",
       "2   86.11  E  \n",
       "3   48.36  E  \n",
       "4    2.52  A  "
      ]
     },
     "execution_count": 4,
     "metadata": {},
     "output_type": "execute_result"
    }
   ],
   "source": [
    "data.head()"
   ]
  },
  {
   "cell_type": "code",
   "execution_count": 5,
   "metadata": {},
   "outputs": [
    {
     "data": {
      "text/html": [
       "<div>\n",
       "<style scoped>\n",
       "    .dataframe tbody tr th:only-of-type {\n",
       "        vertical-align: middle;\n",
       "    }\n",
       "\n",
       "    .dataframe tbody tr th {\n",
       "        vertical-align: top;\n",
       "    }\n",
       "\n",
       "    .dataframe thead th {\n",
       "        text-align: right;\n",
       "    }\n",
       "</style>\n",
       "<table border=\"1\" class=\"dataframe\">\n",
       "  <thead>\n",
       "    <tr style=\"text-align: right;\">\n",
       "      <th></th>\n",
       "      <th>1</th>\n",
       "      <th>2</th>\n",
       "      <th>3</th>\n",
       "      <th>4</th>\n",
       "      <th>5</th>\n",
       "      <th>6</th>\n",
       "      <th>7</th>\n",
       "      <th>8</th>\n",
       "      <th>9</th>\n",
       "      <th>10</th>\n",
       "    </tr>\n",
       "  </thead>\n",
       "  <tbody>\n",
       "    <tr>\n",
       "      <th>count</th>\n",
       "      <td>100000.000000</td>\n",
       "      <td>100000.000000</td>\n",
       "      <td>100000.000000</td>\n",
       "      <td>100000.000000</td>\n",
       "      <td>100000.000000</td>\n",
       "      <td>100000.000000</td>\n",
       "      <td>100000.000000</td>\n",
       "      <td>100000.000000</td>\n",
       "      <td>100000.000000</td>\n",
       "      <td>100000.000000</td>\n",
       "    </tr>\n",
       "    <tr>\n",
       "      <th>mean</th>\n",
       "      <td>33.579207</td>\n",
       "      <td>34.283242</td>\n",
       "      <td>0.041847</td>\n",
       "      <td>545.547095</td>\n",
       "      <td>285.827918</td>\n",
       "      <td>63.898058</td>\n",
       "      <td>168.822658</td>\n",
       "      <td>11.280837</td>\n",
       "      <td>15.064276</td>\n",
       "      <td>126.213140</td>\n",
       "    </tr>\n",
       "    <tr>\n",
       "      <th>std</th>\n",
       "      <td>22.649233</td>\n",
       "      <td>20.601057</td>\n",
       "      <td>0.058397</td>\n",
       "      <td>98.531688</td>\n",
       "      <td>11.855188</td>\n",
       "      <td>18.502231</td>\n",
       "      <td>33.465007</td>\n",
       "      <td>13.354233</td>\n",
       "      <td>8.665014</td>\n",
       "      <td>204.918406</td>\n",
       "    </tr>\n",
       "    <tr>\n",
       "      <th>min</th>\n",
       "      <td>4.680000</td>\n",
       "      <td>3.000000</td>\n",
       "      <td>0.000000</td>\n",
       "      <td>311.230000</td>\n",
       "      <td>256.150000</td>\n",
       "      <td>26.000000</td>\n",
       "      <td>110.000000</td>\n",
       "      <td>0.000000</td>\n",
       "      <td>0.000000</td>\n",
       "      <td>0.000000</td>\n",
       "    </tr>\n",
       "    <tr>\n",
       "      <th>25%</th>\n",
       "      <td>14.070000</td>\n",
       "      <td>15.127500</td>\n",
       "      <td>0.000000</td>\n",
       "      <td>476.670000</td>\n",
       "      <td>276.490000</td>\n",
       "      <td>49.630000</td>\n",
       "      <td>139.647500</td>\n",
       "      <td>0.000000</td>\n",
       "      <td>7.600000</td>\n",
       "      <td>8.510000</td>\n",
       "    </tr>\n",
       "    <tr>\n",
       "      <th>50%</th>\n",
       "      <td>28.990000</td>\n",
       "      <td>32.950000</td>\n",
       "      <td>0.000000</td>\n",
       "      <td>556.760000</td>\n",
       "      <td>287.110000</td>\n",
       "      <td>65.970000</td>\n",
       "      <td>170.060000</td>\n",
       "      <td>2.500000</td>\n",
       "      <td>15.115000</td>\n",
       "      <td>31.320000</td>\n",
       "    </tr>\n",
       "    <tr>\n",
       "      <th>75%</th>\n",
       "      <td>47.270000</td>\n",
       "      <td>50.652500</td>\n",
       "      <td>0.090000</td>\n",
       "      <td>626.512500</td>\n",
       "      <td>295.590000</td>\n",
       "      <td>77.240000</td>\n",
       "      <td>199.570000</td>\n",
       "      <td>22.580000</td>\n",
       "      <td>22.570000</td>\n",
       "      <td>148.152500</td>\n",
       "    </tr>\n",
       "    <tr>\n",
       "      <th>max</th>\n",
       "      <td>103.160000</td>\n",
       "      <td>87.500000</td>\n",
       "      <td>0.190000</td>\n",
       "      <td>709.990000</td>\n",
       "      <td>307.150000</td>\n",
       "      <td>95.000000</td>\n",
       "      <td>220.000000</td>\n",
       "      <td>40.000000</td>\n",
       "      <td>30.000000</td>\n",
       "      <td>859.990000</td>\n",
       "    </tr>\n",
       "  </tbody>\n",
       "</table>\n",
       "</div>"
      ],
      "text/plain": [
       "                  1              2              3              4   \\\n",
       "count  100000.000000  100000.000000  100000.000000  100000.000000   \n",
       "mean       33.579207      34.283242       0.041847     545.547095   \n",
       "std        22.649233      20.601057       0.058397      98.531688   \n",
       "min         4.680000       3.000000       0.000000     311.230000   \n",
       "25%        14.070000      15.127500       0.000000     476.670000   \n",
       "50%        28.990000      32.950000       0.000000     556.760000   \n",
       "75%        47.270000      50.652500       0.090000     626.512500   \n",
       "max       103.160000      87.500000       0.190000     709.990000   \n",
       "\n",
       "                  5              6              7              8   \\\n",
       "count  100000.000000  100000.000000  100000.000000  100000.000000   \n",
       "mean      285.827918      63.898058     168.822658      11.280837   \n",
       "std        11.855188      18.502231      33.465007      13.354233   \n",
       "min       256.150000      26.000000     110.000000       0.000000   \n",
       "25%       276.490000      49.630000     139.647500       0.000000   \n",
       "50%       287.110000      65.970000     170.060000       2.500000   \n",
       "75%       295.590000      77.240000     199.570000      22.580000   \n",
       "max       307.150000      95.000000     220.000000      40.000000   \n",
       "\n",
       "                  9              10  \n",
       "count  100000.000000  100000.000000  \n",
       "mean       15.064276     126.213140  \n",
       "std         8.665014     204.918406  \n",
       "min         0.000000       0.000000  \n",
       "25%         7.600000       8.510000  \n",
       "50%        15.115000      31.320000  \n",
       "75%        22.570000     148.152500  \n",
       "max        30.000000     859.990000  "
      ]
     },
     "execution_count": 5,
     "metadata": {},
     "output_type": "execute_result"
    }
   ],
   "source": [
    "data.describe()"
   ]
  },
  {
   "cell_type": "code",
   "execution_count": 6,
   "metadata": {},
   "outputs": [
    {
     "name": "stdout",
     "output_type": "stream",
     "text": [
      "<class 'pandas.core.frame.DataFrame'>\n",
      "RangeIndex: 100000 entries, 0 to 99999\n",
      "Data columns (total 12 columns):\n",
      " #   Column  Non-Null Count   Dtype  \n",
      "---  ------  --------------   -----  \n",
      " 0   0       100000 non-null  object \n",
      " 1   1       100000 non-null  float64\n",
      " 2   2       100000 non-null  float64\n",
      " 3   3       100000 non-null  float64\n",
      " 4   4       100000 non-null  float64\n",
      " 5   5       100000 non-null  float64\n",
      " 6   6       100000 non-null  float64\n",
      " 7   7       100000 non-null  float64\n",
      " 8   8       100000 non-null  float64\n",
      " 9   9       100000 non-null  float64\n",
      " 10  10      100000 non-null  float64\n",
      " 11  11      100000 non-null  object \n",
      "dtypes: float64(10), object(2)\n",
      "memory usage: 9.2+ MB\n"
     ]
    }
   ],
   "source": [
    "data.info()"
   ]
  },
  {
   "attachments": {},
   "cell_type": "markdown",
   "metadata": {},
   "source": [
    "通过对数据的初步观察发现，  \n",
    "1、数据共含有11个特征，其中有一个特征为离散型特征，其余为连续型特征。最后一列为标签，共有六个类别。需要将第一列的字符型特征进行one-hot编码,便于模型的输入。  \n",
    "2、数据中未存在缺失值的情况，因此不需要进行缺失值的处理。  "
   ]
  },
  {
   "cell_type": "code",
   "execution_count": 7,
   "metadata": {},
   "outputs": [],
   "source": [
    "# 选取特征和标签\n",
    "labels = data.iloc[:,-1]\n",
    "data = data.iloc[:,:-1]"
   ]
  },
  {
   "cell_type": "code",
   "execution_count": 8,
   "metadata": {},
   "outputs": [
    {
     "data": {
      "text/html": [
       "<div>\n",
       "<style scoped>\n",
       "    .dataframe tbody tr th:only-of-type {\n",
       "        vertical-align: middle;\n",
       "    }\n",
       "\n",
       "    .dataframe tbody tr th {\n",
       "        vertical-align: top;\n",
       "    }\n",
       "\n",
       "    .dataframe thead th {\n",
       "        text-align: right;\n",
       "    }\n",
       "</style>\n",
       "<table border=\"1\" class=\"dataframe\">\n",
       "  <thead>\n",
       "    <tr style=\"text-align: right;\">\n",
       "      <th></th>\n",
       "      <th>0</th>\n",
       "      <th>1</th>\n",
       "      <th>2</th>\n",
       "      <th>3</th>\n",
       "      <th>4</th>\n",
       "      <th>5</th>\n",
       "      <th>6</th>\n",
       "      <th>7</th>\n",
       "      <th>8</th>\n",
       "      <th>9</th>\n",
       "      <th>10</th>\n",
       "    </tr>\n",
       "  </thead>\n",
       "  <tbody>\n",
       "    <tr>\n",
       "      <th>0</th>\n",
       "      <td>大连地区</td>\n",
       "      <td>32.94</td>\n",
       "      <td>64.05</td>\n",
       "      <td>0.15</td>\n",
       "      <td>461.95</td>\n",
       "      <td>294.22</td>\n",
       "      <td>67.95</td>\n",
       "      <td>199.22</td>\n",
       "      <td>0.0</td>\n",
       "      <td>22.12</td>\n",
       "      <td>116.89</td>\n",
       "    </tr>\n",
       "    <tr>\n",
       "      <th>1</th>\n",
       "      <td>大连地区</td>\n",
       "      <td>22.32</td>\n",
       "      <td>45.35</td>\n",
       "      <td>0.09</td>\n",
       "      <td>410.70</td>\n",
       "      <td>283.53</td>\n",
       "      <td>66.65</td>\n",
       "      <td>151.33</td>\n",
       "      <td>0.0</td>\n",
       "      <td>11.10</td>\n",
       "      <td>21.89</td>\n",
       "    </tr>\n",
       "    <tr>\n",
       "      <th>2</th>\n",
       "      <td>大连地区</td>\n",
       "      <td>34.11</td>\n",
       "      <td>70.81</td>\n",
       "      <td>0.13</td>\n",
       "      <td>452.81</td>\n",
       "      <td>293.55</td>\n",
       "      <td>68.42</td>\n",
       "      <td>194.73</td>\n",
       "      <td>0.0</td>\n",
       "      <td>23.81</td>\n",
       "      <td>86.11</td>\n",
       "    </tr>\n",
       "    <tr>\n",
       "      <th>3</th>\n",
       "      <td>大连地区</td>\n",
       "      <td>30.31</td>\n",
       "      <td>69.94</td>\n",
       "      <td>0.15</td>\n",
       "      <td>450.31</td>\n",
       "      <td>294.60</td>\n",
       "      <td>68.31</td>\n",
       "      <td>193.15</td>\n",
       "      <td>0.0</td>\n",
       "      <td>21.80</td>\n",
       "      <td>48.36</td>\n",
       "    </tr>\n",
       "    <tr>\n",
       "      <th>4</th>\n",
       "      <td>大连地区</td>\n",
       "      <td>12.95</td>\n",
       "      <td>12.36</td>\n",
       "      <td>0.04</td>\n",
       "      <td>320.80</td>\n",
       "      <td>271.85</td>\n",
       "      <td>64.34</td>\n",
       "      <td>119.39</td>\n",
       "      <td>0.0</td>\n",
       "      <td>2.46</td>\n",
       "      <td>2.52</td>\n",
       "    </tr>\n",
       "  </tbody>\n",
       "</table>\n",
       "</div>"
      ],
      "text/plain": [
       "     0      1      2     3       4       5      6       7    8      9       10\n",
       "0  大连地区  32.94  64.05  0.15  461.95  294.22  67.95  199.22  0.0  22.12  116.89\n",
       "1  大连地区  22.32  45.35  0.09  410.70  283.53  66.65  151.33  0.0  11.10   21.89\n",
       "2  大连地区  34.11  70.81  0.13  452.81  293.55  68.42  194.73  0.0  23.81   86.11\n",
       "3  大连地区  30.31  69.94  0.15  450.31  294.60  68.31  193.15  0.0  21.80   48.36\n",
       "4  大连地区  12.95  12.36  0.04  320.80  271.85  64.34  119.39  0.0   2.46    2.52"
      ]
     },
     "execution_count": 8,
     "metadata": {},
     "output_type": "execute_result"
    }
   ],
   "source": [
    "data.head()"
   ]
  },
  {
   "cell_type": "code",
   "execution_count": 9,
   "metadata": {},
   "outputs": [
    {
     "data": {
      "text/plain": [
       "C    16809\n",
       "E    16741\n",
       "F    16683\n",
       "A    16677\n",
       "D    16626\n",
       "B    16464\n",
       "Name: 11, dtype: int64"
      ]
     },
     "execution_count": 9,
     "metadata": {},
     "output_type": "execute_result"
    }
   ],
   "source": [
    "labels.value_counts()"
   ]
  },
  {
   "attachments": {},
   "cell_type": "markdown",
   "metadata": {},
   "source": [
    "对标签值观察后得出  \n",
    "共分为六类，分别为：A B C D E F  \n",
    "每一类的类别数量相对平衡  \n",
    "为了不破坏数据的平衡性，采用对每类样本随机抽样的方法进行实验，随机抽取每类样本的80%作为训练集，20%作为测试集。  \n",
    "在训练之前首先需要对标签值进行 onehot 编码，将标签值转换为向量形式，便于模型的训练。\n"
   ]
  },
  {
   "cell_type": "code",
   "execution_count": 10,
   "metadata": {},
   "outputs": [],
   "source": [
    "# 对第一列进行one-hot编码 后拼接\n",
    "from sklearn.preprocessing import OneHotEncoder\n",
    "one_hot_encoder = OneHotEncoder(sparse=False)\n",
    "region = one_hot_encoder.fit_transform(data.iloc[:,0].values.reshape(-1,1))\n"
   ]
  },
  {
   "cell_type": "code",
   "execution_count": 11,
   "metadata": {},
   "outputs": [
    {
     "data": {
      "text/plain": [
       "(100000, 5)"
      ]
     },
     "execution_count": 11,
     "metadata": {},
     "output_type": "execute_result"
    }
   ],
   "source": [
    "region.shape"
   ]
  },
  {
   "cell_type": "code",
   "execution_count": 12,
   "metadata": {},
   "outputs": [],
   "source": [
    "# '临汾地区'[1,0,0,0,0], \n",
    "# '大连地区'[0,1,0,0,0],\n",
    "# '平朔地区'[0,0,1,0,0],\n",
    "# '广州地区'[0,0,0,1,0],\n",
    "# '长治地区'[0,0,0,0,1]"
   ]
  },
  {
   "cell_type": "code",
   "execution_count": 13,
   "metadata": {},
   "outputs": [],
   "source": [
    "# 完成和其他数据的拼接\n",
    "data = pd.concat([pd.DataFrame(region),data.iloc[:,1:]],axis=1,ignore_index=True)"
   ]
  },
  {
   "cell_type": "code",
   "execution_count": 14,
   "metadata": {},
   "outputs": [
    {
     "data": {
      "text/html": [
       "<div>\n",
       "<style scoped>\n",
       "    .dataframe tbody tr th:only-of-type {\n",
       "        vertical-align: middle;\n",
       "    }\n",
       "\n",
       "    .dataframe tbody tr th {\n",
       "        vertical-align: top;\n",
       "    }\n",
       "\n",
       "    .dataframe thead th {\n",
       "        text-align: right;\n",
       "    }\n",
       "</style>\n",
       "<table border=\"1\" class=\"dataframe\">\n",
       "  <thead>\n",
       "    <tr style=\"text-align: right;\">\n",
       "      <th></th>\n",
       "      <th>0</th>\n",
       "      <th>1</th>\n",
       "      <th>2</th>\n",
       "      <th>3</th>\n",
       "      <th>4</th>\n",
       "      <th>5</th>\n",
       "      <th>6</th>\n",
       "      <th>7</th>\n",
       "      <th>8</th>\n",
       "      <th>9</th>\n",
       "      <th>10</th>\n",
       "      <th>11</th>\n",
       "      <th>12</th>\n",
       "      <th>13</th>\n",
       "      <th>14</th>\n",
       "    </tr>\n",
       "  </thead>\n",
       "  <tbody>\n",
       "    <tr>\n",
       "      <th>0</th>\n",
       "      <td>0.0</td>\n",
       "      <td>1.0</td>\n",
       "      <td>0.0</td>\n",
       "      <td>0.0</td>\n",
       "      <td>0.0</td>\n",
       "      <td>32.94</td>\n",
       "      <td>64.05</td>\n",
       "      <td>0.15</td>\n",
       "      <td>461.95</td>\n",
       "      <td>294.22</td>\n",
       "      <td>67.95</td>\n",
       "      <td>199.22</td>\n",
       "      <td>0.0</td>\n",
       "      <td>22.12</td>\n",
       "      <td>116.89</td>\n",
       "    </tr>\n",
       "    <tr>\n",
       "      <th>1</th>\n",
       "      <td>0.0</td>\n",
       "      <td>1.0</td>\n",
       "      <td>0.0</td>\n",
       "      <td>0.0</td>\n",
       "      <td>0.0</td>\n",
       "      <td>22.32</td>\n",
       "      <td>45.35</td>\n",
       "      <td>0.09</td>\n",
       "      <td>410.70</td>\n",
       "      <td>283.53</td>\n",
       "      <td>66.65</td>\n",
       "      <td>151.33</td>\n",
       "      <td>0.0</td>\n",
       "      <td>11.10</td>\n",
       "      <td>21.89</td>\n",
       "    </tr>\n",
       "    <tr>\n",
       "      <th>2</th>\n",
       "      <td>0.0</td>\n",
       "      <td>1.0</td>\n",
       "      <td>0.0</td>\n",
       "      <td>0.0</td>\n",
       "      <td>0.0</td>\n",
       "      <td>34.11</td>\n",
       "      <td>70.81</td>\n",
       "      <td>0.13</td>\n",
       "      <td>452.81</td>\n",
       "      <td>293.55</td>\n",
       "      <td>68.42</td>\n",
       "      <td>194.73</td>\n",
       "      <td>0.0</td>\n",
       "      <td>23.81</td>\n",
       "      <td>86.11</td>\n",
       "    </tr>\n",
       "    <tr>\n",
       "      <th>3</th>\n",
       "      <td>0.0</td>\n",
       "      <td>1.0</td>\n",
       "      <td>0.0</td>\n",
       "      <td>0.0</td>\n",
       "      <td>0.0</td>\n",
       "      <td>30.31</td>\n",
       "      <td>69.94</td>\n",
       "      <td>0.15</td>\n",
       "      <td>450.31</td>\n",
       "      <td>294.60</td>\n",
       "      <td>68.31</td>\n",
       "      <td>193.15</td>\n",
       "      <td>0.0</td>\n",
       "      <td>21.80</td>\n",
       "      <td>48.36</td>\n",
       "    </tr>\n",
       "    <tr>\n",
       "      <th>4</th>\n",
       "      <td>0.0</td>\n",
       "      <td>1.0</td>\n",
       "      <td>0.0</td>\n",
       "      <td>0.0</td>\n",
       "      <td>0.0</td>\n",
       "      <td>12.95</td>\n",
       "      <td>12.36</td>\n",
       "      <td>0.04</td>\n",
       "      <td>320.80</td>\n",
       "      <td>271.85</td>\n",
       "      <td>64.34</td>\n",
       "      <td>119.39</td>\n",
       "      <td>0.0</td>\n",
       "      <td>2.46</td>\n",
       "      <td>2.52</td>\n",
       "    </tr>\n",
       "  </tbody>\n",
       "</table>\n",
       "</div>"
      ],
      "text/plain": [
       "    0    1    2    3    4      5      6     7       8       9      10      11  \\\n",
       "0  0.0  1.0  0.0  0.0  0.0  32.94  64.05  0.15  461.95  294.22  67.95  199.22   \n",
       "1  0.0  1.0  0.0  0.0  0.0  22.32  45.35  0.09  410.70  283.53  66.65  151.33   \n",
       "2  0.0  1.0  0.0  0.0  0.0  34.11  70.81  0.13  452.81  293.55  68.42  194.73   \n",
       "3  0.0  1.0  0.0  0.0  0.0  30.31  69.94  0.15  450.31  294.60  68.31  193.15   \n",
       "4  0.0  1.0  0.0  0.0  0.0  12.95  12.36  0.04  320.80  271.85  64.34  119.39   \n",
       "\n",
       "    12     13      14  \n",
       "0  0.0  22.12  116.89  \n",
       "1  0.0  11.10   21.89  \n",
       "2  0.0  23.81   86.11  \n",
       "3  0.0  21.80   48.36  \n",
       "4  0.0   2.46    2.52  "
      ]
     },
     "execution_count": 14,
     "metadata": {},
     "output_type": "execute_result"
    }
   ],
   "source": [
    "data.head()"
   ]
  },
  {
   "cell_type": "code",
   "execution_count": 15,
   "metadata": {},
   "outputs": [],
   "source": [
    "# 划分数据集 将前80%作为训练集，后20%作为测试集\n",
    "from sklearn.model_selection import train_test_split\n",
    "X_train,X_test,y_train,y_test = train_test_split(data,labels,test_size=0.2,random_state=0)"
   ]
  },
  {
   "cell_type": "code",
   "execution_count": 16,
   "metadata": {},
   "outputs": [
    {
     "name": "stdout",
     "output_type": "stream",
     "text": [
      "(80000, 15) (20000, 15) (80000,) (20000,)\n"
     ]
    }
   ],
   "source": [
    "print(X_train.shape,X_test.shape,y_train.shape,y_test.shape)"
   ]
  },
  {
   "cell_type": "code",
   "execution_count": 17,
   "metadata": {},
   "outputs": [],
   "source": [
    "# 对标签进行one-hot编码\n",
    "from sklearn.preprocessing import OneHotEncoder\n",
    "one_hot_encoder = OneHotEncoder(sparse=False)\n",
    "y_train = one_hot_encoder.fit_transform(y_train.values.reshape(-1,1))\n",
    "y_test = one_hot_encoder.fit_transform(y_test.values.reshape(-1,1))\n"
   ]
  },
  {
   "cell_type": "code",
   "execution_count": 18,
   "metadata": {},
   "outputs": [],
   "source": [
    "# 'A': [1,0,0,0,0,0]\n",
    "# 'B': [0,1,0,0,0,0]\n",
    "# 'C': [0,0,1,0,0,0]\n",
    "# 'D': [0,0,0,1,0,0]\n",
    "# 'E': [0,0,0,0,1,0]\n",
    "# 'F': [0,0,0,0,0,1]"
   ]
  },
  {
   "cell_type": "code",
   "execution_count": 19,
   "metadata": {},
   "outputs": [
    {
     "data": {
      "text/plain": [
       "[array(['A', 'B', 'C', 'D', 'E', 'F'], dtype=object)]"
      ]
     },
     "execution_count": 19,
     "metadata": {},
     "output_type": "execute_result"
    }
   ],
   "source": [
    "class_name = one_hot_encoder.categories_\n",
    "class_name"
   ]
  },
  {
   "cell_type": "code",
   "execution_count": 20,
   "metadata": {},
   "outputs": [],
   "source": [
    "class_name = ['A', 'B', 'C', 'D', 'E', 'F']"
   ]
  },
  {
   "cell_type": "code",
   "execution_count": 21,
   "metadata": {},
   "outputs": [],
   "source": [
    "# 使用 XGBoost 进行模型的训练\n",
    "import xgboost as xgb\n",
    "model = xgb.XGBClassifier(n_estimators=100, learning_rate=0.1, max_depth=3)\n"
   ]
  },
  {
   "cell_type": "code",
   "execution_count": 22,
   "metadata": {},
   "outputs": [
    {
     "data": {
      "text/html": [
       "<style>#sk-container-id-1 {color: black;background-color: white;}#sk-container-id-1 pre{padding: 0;}#sk-container-id-1 div.sk-toggleable {background-color: white;}#sk-container-id-1 label.sk-toggleable__label {cursor: pointer;display: block;width: 100%;margin-bottom: 0;padding: 0.3em;box-sizing: border-box;text-align: center;}#sk-container-id-1 label.sk-toggleable__label-arrow:before {content: \"▸\";float: left;margin-right: 0.25em;color: #696969;}#sk-container-id-1 label.sk-toggleable__label-arrow:hover:before {color: black;}#sk-container-id-1 div.sk-estimator:hover label.sk-toggleable__label-arrow:before {color: black;}#sk-container-id-1 div.sk-toggleable__content {max-height: 0;max-width: 0;overflow: hidden;text-align: left;background-color: #f0f8ff;}#sk-container-id-1 div.sk-toggleable__content pre {margin: 0.2em;color: black;border-radius: 0.25em;background-color: #f0f8ff;}#sk-container-id-1 input.sk-toggleable__control:checked~div.sk-toggleable__content {max-height: 200px;max-width: 100%;overflow: auto;}#sk-container-id-1 input.sk-toggleable__control:checked~label.sk-toggleable__label-arrow:before {content: \"▾\";}#sk-container-id-1 div.sk-estimator input.sk-toggleable__control:checked~label.sk-toggleable__label {background-color: #d4ebff;}#sk-container-id-1 div.sk-label input.sk-toggleable__control:checked~label.sk-toggleable__label {background-color: #d4ebff;}#sk-container-id-1 input.sk-hidden--visually {border: 0;clip: rect(1px 1px 1px 1px);clip: rect(1px, 1px, 1px, 1px);height: 1px;margin: -1px;overflow: hidden;padding: 0;position: absolute;width: 1px;}#sk-container-id-1 div.sk-estimator {font-family: monospace;background-color: #f0f8ff;border: 1px dotted black;border-radius: 0.25em;box-sizing: border-box;margin-bottom: 0.5em;}#sk-container-id-1 div.sk-estimator:hover {background-color: #d4ebff;}#sk-container-id-1 div.sk-parallel-item::after {content: \"\";width: 100%;border-bottom: 1px solid gray;flex-grow: 1;}#sk-container-id-1 div.sk-label:hover label.sk-toggleable__label {background-color: #d4ebff;}#sk-container-id-1 div.sk-serial::before {content: \"\";position: absolute;border-left: 1px solid gray;box-sizing: border-box;top: 0;bottom: 0;left: 50%;z-index: 0;}#sk-container-id-1 div.sk-serial {display: flex;flex-direction: column;align-items: center;background-color: white;padding-right: 0.2em;padding-left: 0.2em;position: relative;}#sk-container-id-1 div.sk-item {position: relative;z-index: 1;}#sk-container-id-1 div.sk-parallel {display: flex;align-items: stretch;justify-content: center;background-color: white;position: relative;}#sk-container-id-1 div.sk-item::before, #sk-container-id-1 div.sk-parallel-item::before {content: \"\";position: absolute;border-left: 1px solid gray;box-sizing: border-box;top: 0;bottom: 0;left: 50%;z-index: -1;}#sk-container-id-1 div.sk-parallel-item {display: flex;flex-direction: column;z-index: 1;position: relative;background-color: white;}#sk-container-id-1 div.sk-parallel-item:first-child::after {align-self: flex-end;width: 50%;}#sk-container-id-1 div.sk-parallel-item:last-child::after {align-self: flex-start;width: 50%;}#sk-container-id-1 div.sk-parallel-item:only-child::after {width: 0;}#sk-container-id-1 div.sk-dashed-wrapped {border: 1px dashed gray;margin: 0 0.4em 0.5em 0.4em;box-sizing: border-box;padding-bottom: 0.4em;background-color: white;}#sk-container-id-1 div.sk-label label {font-family: monospace;font-weight: bold;display: inline-block;line-height: 1.2em;}#sk-container-id-1 div.sk-label-container {text-align: center;}#sk-container-id-1 div.sk-container {/* jupyter's `normalize.less` sets `[hidden] { display: none; }` but bootstrap.min.css set `[hidden] { display: none !important; }` so we also need the `!important` here to be able to override the default hidden behavior on the sphinx rendered scikit-learn.org. See: https://github.com/scikit-learn/scikit-learn/issues/21755 */display: inline-block !important;position: relative;}#sk-container-id-1 div.sk-text-repr-fallback {display: none;}</style><div id=\"sk-container-id-1\" class=\"sk-top-container\"><div class=\"sk-text-repr-fallback\"><pre>XGBClassifier(base_score=None, booster=None, callbacks=None,\n",
       "              colsample_bylevel=None, colsample_bynode=None,\n",
       "              colsample_bytree=None, early_stopping_rounds=None,\n",
       "              enable_categorical=False, eval_metric=None, feature_types=None,\n",
       "              gamma=None, gpu_id=None, grow_policy=None, importance_type=None,\n",
       "              interaction_constraints=None, learning_rate=0.1, max_bin=None,\n",
       "              max_cat_threshold=None, max_cat_to_onehot=None,\n",
       "              max_delta_step=None, max_depth=3, max_leaves=None,\n",
       "              min_child_weight=None, missing=nan, monotone_constraints=None,\n",
       "              n_estimators=100, n_jobs=None, num_parallel_tree=None,\n",
       "              predictor=None, random_state=None, ...)</pre><b>In a Jupyter environment, please rerun this cell to show the HTML representation or trust the notebook. <br />On GitHub, the HTML representation is unable to render, please try loading this page with nbviewer.org.</b></div><div class=\"sk-container\" hidden><div class=\"sk-item\"><div class=\"sk-estimator sk-toggleable\"><input class=\"sk-toggleable__control sk-hidden--visually\" id=\"sk-estimator-id-1\" type=\"checkbox\" checked><label for=\"sk-estimator-id-1\" class=\"sk-toggleable__label sk-toggleable__label-arrow\">XGBClassifier</label><div class=\"sk-toggleable__content\"><pre>XGBClassifier(base_score=None, booster=None, callbacks=None,\n",
       "              colsample_bylevel=None, colsample_bynode=None,\n",
       "              colsample_bytree=None, early_stopping_rounds=None,\n",
       "              enable_categorical=False, eval_metric=None, feature_types=None,\n",
       "              gamma=None, gpu_id=None, grow_policy=None, importance_type=None,\n",
       "              interaction_constraints=None, learning_rate=0.1, max_bin=None,\n",
       "              max_cat_threshold=None, max_cat_to_onehot=None,\n",
       "              max_delta_step=None, max_depth=3, max_leaves=None,\n",
       "              min_child_weight=None, missing=nan, monotone_constraints=None,\n",
       "              n_estimators=100, n_jobs=None, num_parallel_tree=None,\n",
       "              predictor=None, random_state=None, ...)</pre></div></div></div></div></div>"
      ],
      "text/plain": [
       "XGBClassifier(base_score=None, booster=None, callbacks=None,\n",
       "              colsample_bylevel=None, colsample_bynode=None,\n",
       "              colsample_bytree=None, early_stopping_rounds=None,\n",
       "              enable_categorical=False, eval_metric=None, feature_types=None,\n",
       "              gamma=None, gpu_id=None, grow_policy=None, importance_type=None,\n",
       "              interaction_constraints=None, learning_rate=0.1, max_bin=None,\n",
       "              max_cat_threshold=None, max_cat_to_onehot=None,\n",
       "              max_delta_step=None, max_depth=3, max_leaves=None,\n",
       "              min_child_weight=None, missing=nan, monotone_constraints=None,\n",
       "              n_estimators=100, n_jobs=None, num_parallel_tree=None,\n",
       "              predictor=None, random_state=None, ...)"
      ]
     },
     "execution_count": 22,
     "metadata": {},
     "output_type": "execute_result"
    }
   ],
   "source": [
    "model.fit(X_train,y_train,verbose=0)"
   ]
  },
  {
   "cell_type": "code",
   "execution_count": 23,
   "metadata": {},
   "outputs": [
    {
     "data": {
      "text/plain": [
       "array([[0., 0., 0., 0., 1., 0.],\n",
       "       [0., 0., 0., 0., 0., 1.],\n",
       "       [0., 0., 1., 0., 0., 0.],\n",
       "       ...,\n",
       "       [0., 0., 0., 1., 0., 0.],\n",
       "       [1., 0., 0., 0., 0., 0.],\n",
       "       [0., 0., 0., 1., 0., 0.]])"
      ]
     },
     "execution_count": 23,
     "metadata": {},
     "output_type": "execute_result"
    }
   ],
   "source": [
    "y_test"
   ]
  },
  {
   "cell_type": "code",
   "execution_count": 24,
   "metadata": {},
   "outputs": [
    {
     "data": {
      "text/plain": [
       "['A', 'B', 'C', 'D', 'E', 'F']"
      ]
     },
     "execution_count": 24,
     "metadata": {},
     "output_type": "execute_result"
    }
   ],
   "source": [
    "class_name"
   ]
  },
  {
   "cell_type": "code",
   "execution_count": 25,
   "metadata": {},
   "outputs": [
    {
     "name": "stdout",
     "output_type": "stream",
     "text": [
      "测试报告：\n",
      "              precision    recall  f1-score   support\n",
      "\n",
      "           A  1.00000000 1.00000000 1.00000000      3398\n",
      "           B  1.00000000 1.00000000 1.00000000      3254\n",
      "           C  1.00000000 1.00000000 1.00000000      3361\n",
      "           D  1.00000000 1.00000000 1.00000000      3332\n",
      "           E  1.00000000 1.00000000 1.00000000      3352\n",
      "           F  1.00000000 1.00000000 1.00000000      3303\n",
      "\n",
      "   micro avg  1.00000000 1.00000000 1.00000000     20000\n",
      "   macro avg  1.00000000 1.00000000 1.00000000     20000\n",
      "weighted avg  1.00000000 1.00000000 1.00000000     20000\n",
      " samples avg  1.00000000 1.00000000 1.00000000     20000\n",
      "\n",
      "混淆矩阵：\n"
     ]
    },
    {
     "data": {
      "image/png": "[encoded data removed]",
      "text/plain": [
       "<Figure size 640x480 with 2 Axes>"
      ]
     },
     "metadata": {},
     "output_type": "display_data"
    },
    {
     "name": "stdout",
     "output_type": "stream",
     "text": [
      "各个类别的误报率 :  [0.0, 0.0, 0.0, 0.0, 0.0, 0.0]\n"
     ]
    }
   ],
   "source": [
    "y_pred = model.predict(X_test)\n",
    "import numpy as np\n",
    "from matplotlib import pyplot as plt\n",
    "from sklearn.metrics import ConfusionMatrixDisplay, classification_report, confusion_matrix, f1_score, precision_recall_fscore_support\n",
    "from sklearn.metrics import accuracy_score\n",
    "\n",
    "report = classification_report(y_test, y_pred,target_names=[c for c in class_name],digits=8)\n",
    "print(\"测试报告：\")\n",
    "print(report)\n",
    "\n",
    "print(\"混淆矩阵：\")\n",
    "cm = confusion_matrix(y_true=y_test.argmax(axis = 1), y_pred=y_pred.argmax(axis = 1), labels=[i for i in range(len(class_name))])\n",
    "disp = ConfusionMatrixDisplay(confusion_matrix=cm, display_labels=[c for c in class_name])\n",
    "disp.plot()\n",
    "plt.show()\n",
    "\n",
    "def false_positive_rate(y_real,y_pred):\n",
    "    cm = confusion_matrix(y_true=y_real.argmax(axis = 1), y_pred=y_pred.argmax(axis = 1))\n",
    "    fpr = []\n",
    "    for class_index in range(cm.shape[0]):\n",
    "        fp = sum(cm[:, class_index]) - cm[class_index, class_index]\n",
    "        tn = np.sum(cm) - np.sum(cm[class_index, :]) - np.sum(cm[:, class_index]) + cm[class_index, class_index]\n",
    "        fpr.append(fp / (fp + tn))\n",
    "    return fpr\n",
    "fpr = false_positive_rate(y_pred,y_test)\n",
    "print(\"各个类别的误报率 : \",fpr)"
   ]
  },
  {
   "cell_type": "code",
   "execution_count": 27,
   "metadata": {},
   "outputs": [],
   "source": [
    "# 保存模型\n",
    "import pickle\n",
    "pickle.dump(model,open(\"./checkpoints/model.pkl\",\"wb\"))"
   ]
  },
  {
   "cell_type": "code",
   "execution_count": 220,
   "metadata": {},
   "outputs": [],
   "source": [
    "# 测试\n",
    "test = np.array([0,1,0,0,0,32.94,64.05,0.15,461.95,294.22,67.95,199.22,0.0,22.12,116.89])"
   ]
  },
  {
   "cell_type": "code",
   "execution_count": 221,
   "metadata": {},
   "outputs": [],
   "source": [
    "pred  = model.predict(test.reshape(1,-1))"
   ]
  },
  {
   "cell_type": "code",
   "execution_count": 222,
   "metadata": {},
   "outputs": [],
   "source": [
    "pred = one_hot_encoder.inverse_transform(pred)"
   ]
  },
  {
   "cell_type": "code",
   "execution_count": 223,
   "metadata": {},
   "outputs": [
    {
     "data": {
      "text/plain": [
       "'E'"
      ]
     },
     "execution_count": 223,
     "metadata": {},
     "output_type": "execute_result"
    }
   ],
   "source": [
    "pred.item()"
   ]
  },
  {
   "cell_type": "code",
   "execution_count": 134,
   "metadata": {},
   "outputs": [
    {
     "data": {
      "text/plain": [
       "array([4], dtype=int64)"
      ]
     },
     "execution_count": 134,
     "metadata": {},
     "output_type": "execute_result"
    }
   ],
   "source": [
    "pred.argmax(axis = 1)"
   ]
  },
  {
   "cell_type": "code",
   "execution_count": 2,
   "metadata": {},
   "outputs": [],
   "source": [
    "# 加载保存的模型\n",
    "import numpy as np\n",
    "import pickle\n",
    "model = pickle.load(open(\"./checkpoints/model.pkl\",\"rb\"))\n",
    "test = np.array([0,1,0,0,0,32.94,64.05,0.15,461.95,294.22,67.95,199.22,0.0,22.12,116.89])\n",
    "pred  = model.predict(test.reshape(1,-1))"
   ]
  },
  {
   "cell_type": "code",
   "execution_count": 3,
   "metadata": {},
   "outputs": [
    {
     "data": {
      "text/plain": [
       "array([[0., 0., 0., 0., 1., 0.]])"
      ]
     },
     "execution_count": 3,
     "metadata": {},
     "output_type": "execute_result"
    }
   ],
   "source": [
    "pred"
   ]
  },
  {
   "cell_type": "code",
   "execution_count": 30,
   "metadata": {},
   "outputs": [
    {
     "data": {
      "text/plain": [
       "array([['E']], dtype=object)"
      ]
     },
     "execution_count": 30,
     "metadata": {},
     "output_type": "execute_result"
    }
   ],
   "source": [
    "one_hot_encoder.inverse_transform(pred)"
   ]
  },
  {
   "cell_type": "code",
   "execution_count": null,
   "metadata": {},
   "outputs": [],
   "source": []
  }
 ],
 "metadata": {
  "kernelspec": {
   "display_name": "pytorch",
   "language": "python",
   "name": "python3"
  },
  "language_info": {
   "codemirror_mode": {
    "name": "ipython",
    "version": 3
   },
   "file_extension": ".py",
   "mimetype": "text/x-python",
   "name": "python",
   "nbconvert_exporter": "python",
   "pygments_lexer": "ipython3",
   "version": "3.9.16"
  },
  "orig_nbformat": 4
 },
 "nbformat": 4,
 "nbformat_minor": 2
}
